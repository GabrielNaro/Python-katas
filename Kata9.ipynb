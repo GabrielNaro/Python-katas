{
 "cells": [
  {
   "cell_type": "markdown",
   "metadata": {},
   "source": [
    "## Kata 9"
   ]
  },
  {
   "cell_type": "markdown",
   "metadata": {},
   "source": [
    "### Ejercicio 1"
   ]
  },
  {
   "cell_type": "code",
   "execution_count": 22,
   "metadata": {},
   "outputs": [
    {
     "name": "stdout",
     "output_type": "stream",
     "text": [
      "el promedio es: 46.666666666666664 con combustible 1: 20, combustible 2: 40 y combustible 3: 80\n",
      "46.666666666666664\n"
     ]
    }
   ],
   "source": [
    "def reporte (combustible_1, combustible_2, combustible_3):\n",
    "     promedio_combustible = (combustible_1 + combustible_2 + combustible_3) / 3\n",
    "     return f'el promedio es: {promedio_combustible} con combustible 1: {combustible_1}, combustible 2: {combustible_2} y combustible 3: {combustible_3}'\n",
    "\n",
    "print(reporte(20,40,80))\n",
    "\n",
    "def promedio(valor):\n",
    "    total = sum(valor)\n",
    "    combustibles = len(valor)\n",
    "    return total / combustibles\n",
    "    \n",
    "print (promedio([20,40,80]))\n"
   ]
  },
  {
   "cell_type": "markdown",
   "metadata": {},
   "source": [
    "### Ejercicio 2"
   ]
  },
  {
   "cell_type": "code",
   "execution_count": 32,
   "metadata": {},
   "outputs": [
    {
     "name": "stdout",
     "output_type": "stream",
     "text": [
      " tiempo de viaje 60, gasolina que tenemos 750000 y nos dirigimos a Tierra\n",
      " tiempo de viaje 130 minutos, el total de gasolina es: 900000 y nos dirigimos a: Marte\n",
      " tiempo de viaje 100 minutos, el total de gasolina es: 850000 y nos dirigimos a: Jupiter. El tanque interno tiene 750000 ||El tanque externo tiene 100000 ||\n"
     ]
    }
   ],
   "source": [
    "#firs_funtion\n",
    "def reporte (hora_prelanzamiento, tiempo_vuelo, destino, tanque_externo, tanque_interno):\n",
    "    return f' tiempo de viaje {hora_prelanzamiento + tiempo_vuelo}, gasolina que tenemos {tanque_externo + tanque_interno} y nos dirigimos a {destino}'\n",
    "\n",
    "print(reporte(20, 40, \"Tierra\", 100000, 650000))\n",
    "\n",
    "#second_function\n",
    "def nuevo_reporte(destino_nuevo, *minutos, **gasolina):\n",
    "    return f' tiempo de viaje {sum(minutos)} minutos, el total de gasolina es: {sum(gasolina.values())} y nos dirigimos a: {destino_nuevo}'\n",
    "\n",
    "print(nuevo_reporte(\"Marte\", 10, 50, 70, interno=550000, externo=350000))\n",
    "\n",
    "#third function\n",
    "def reporte_final(destino_final, *minutos_nuevos, **gasolina_final):\n",
    "    reporte = f' tiempo de viaje {sum(minutos_nuevos)} minutos, el total de gasolina es: {sum(gasolina_final.values())} y nos dirigimos a: {destino_final}. '\n",
    "    \n",
    "    for tanque, ml in gasolina_final.items():\n",
    "        reporte += f'El tanque {tanque} tiene {ml} ||'\n",
    "    return reporte\n",
    "\n",
    "print(reporte_final(\"Jupiter\", 10, 80, 10, interno=750000, externo=100000))\n"
   ]
  }
 ],
 "metadata": {
  "interpreter": {
   "hash": "2be5faf79681da6f2a61fdfdd5405d65d042280f7fba6178067603e3a2925119"
  },
  "kernelspec": {
   "display_name": "Python 3.10.2 64-bit",
   "language": "python",
   "name": "python3"
  },
  "language_info": {
   "codemirror_mode": {
    "name": "ipython",
    "version": 3
   },
   "file_extension": ".py",
   "mimetype": "text/x-python",
   "name": "python",
   "nbconvert_exporter": "python",
   "pygments_lexer": "ipython3",
   "version": "3.10.2"
  },
  "orig_nbformat": 4
 },
 "nbformat": 4,
 "nbformat_minor": 2
}
