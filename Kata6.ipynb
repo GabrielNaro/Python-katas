{
 "cells": [
  {
   "cell_type": "markdown",
   "metadata": {},
   "source": [
    "## Kata 6"
   ]
  },
  {
   "cell_type": "markdown",
   "metadata": {},
   "source": [
    "### Ejercico 1"
   ]
  },
  {
   "cell_type": "code",
   "execution_count": null,
   "metadata": {},
   "outputs": [],
   "source": [
    "planets = ['Mercury', 'Venus', 'Earth', 'Mars', 'Jupiter', 'Saturn', 'Uranus', 'Neptune']\n",
    "\n",
    "planets.append('Pluto')\n",
    "number_of_planets = len(planets)\n",
    "print(\"El numero de planetas es\", number_of_planets, \"y el ultimo es\", planets[-1])"
   ]
  },
  {
   "cell_type": "markdown",
   "metadata": {},
   "source": [
    "### Ejercicio 2"
   ]
  },
  {
   "cell_type": "code",
   "execution_count": null,
   "metadata": {},
   "outputs": [],
   "source": [
    "planets = ['Mercury', 'Venus', 'Earth', 'Mars', 'Jupiter', 'Saturn', 'Neptune']\n",
    "planet = input(\"Dime el nombre de un planeta con la primera letra en mayúsculas\")\n",
    "search_planet = planets.index(planet)\n",
    "print(\"El planeta que busca se encuentra en la posción \",search_planet + 1)\n",
    "\n",
    "planets_before = planets[0:search_planet]\n",
    "print(\"Los planetas más cercanos al sol que\", planet, \"son\", planets_before)\n",
    "\n",
    "planets_after = planets[search_planet + 1:]\n",
    "print(\"Y los planetas más lejanos del sol que\", planet, \"son\", planets_after)"
   ]
  }
 ],
 "metadata": {
  "interpreter": {
   "hash": "2be5faf79681da6f2a61fdfdd5405d65d042280f7fba6178067603e3a2925119"
  },
  "kernelspec": {
   "display_name": "Python 3.10.2 64-bit",
   "language": "python",
   "name": "python3"
  },
  "language_info": {
   "codemirror_mode": {
    "name": "ipython",
    "version": 3
   },
   "file_extension": ".py",
   "mimetype": "text/x-python",
   "name": "python",
   "nbconvert_exporter": "python",
   "pygments_lexer": "ipython3",
   "version": "3.10.2"
  },
  "orig_nbformat": 4
 },
 "nbformat": 4,
 "nbformat_minor": 2
}
