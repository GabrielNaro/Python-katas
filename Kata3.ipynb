{
 "cells": [
  {
   "cell_type": "markdown",
   "metadata": {},
   "source": [
    "## Kata 3"
   ]
  },
  {
   "cell_type": "markdown",
   "metadata": {},
   "source": [
    "Problema 1"
   ]
  },
  {
   "cell_type": "code",
   "execution_count": 12,
   "metadata": {},
   "outputs": [
    {
     "name": "stdout",
     "output_type": "stream",
     "text": [
      "Hay peligro\n"
     ]
    }
   ],
   "source": [
    "velocity_asteroid = 49\n",
    "if velocity_asteroid > 25:\n",
    "    print(\"Hay peligro\")\n",
    "else:\n",
    "    print(\"Todo está bien\")"
   ]
  },
  {
   "cell_type": "markdown",
   "metadata": {},
   "source": [
    "Problema 2"
   ]
  },
  {
   "cell_type": "code",
   "execution_count": null,
   "metadata": {},
   "outputs": [],
   "source": [
    "velocity_asteroid = 19\n",
    "if velocity_asteroid > 25:\n",
    "    print(\"Hay peligro\")\n",
    "elif velocity_asteroid >= 20:\n",
    "    print(\"Asomate, puedes ver un rayo\")\n",
    "else:\n",
    "    print(\"Todo está bien\")\n",
    "        "
   ]
  },
  {
   "cell_type": "markdown",
   "metadata": {},
   "source": [
    "Problema 3"
   ]
  },
  {
   "cell_type": "code",
   "execution_count": null,
   "metadata": {},
   "outputs": [],
   "source": [
    "size_asteroid = 57\n",
    "velocity_asteroid = 19\n",
    "if velocity_asteroid > 25 and size_asteroid > 25:\n",
    "    print(\"Hay peligro\")\n",
    "elif velocity_asteroid >= 20:\n",
    "    print(\"Asomate, podrás ver un rayo\")\n",
    "elif size_asteroid <= 25:\n",
    "    print(\"Todo está bien\")\n",
    "else:\n",
    "    print(\"Todo está bien\")"
   ]
  }
 ],
 "metadata": {
  "interpreter": {
   "hash": "180b884bdc783d67f4bce5251626d4c757af486c3d3bfebddad5e28d77328703"
  },
  "kernelspec": {
   "display_name": "Python 3.10.2 64-bit",
   "language": "python",
   "name": "python3"
  },
  "language_info": {
   "codemirror_mode": {
    "name": "ipython",
    "version": 3
   },
   "file_extension": ".py",
   "mimetype": "text/x-python",
   "name": "python",
   "nbconvert_exporter": "python",
   "pygments_lexer": "ipython3",
   "version": "3.10.2"
  },
  "orig_nbformat": 4
 },
 "nbformat": 4,
 "nbformat_minor": 2
}
